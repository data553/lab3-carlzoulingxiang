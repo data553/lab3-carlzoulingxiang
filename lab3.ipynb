{
 "cells": [
  {
   "cell_type": "markdown",
   "metadata": {},
   "source": [
    "# k-anonymity\n",
    "In this you will practice exploring and linking various Fake datasets and try to de-identify and re-identify owners of records. Think about an attackers who wants to gain as much information as possible. The attacker may want to ask for money based on the value of the information found about each person. "
   ]
  },
  {
   "cell_type": "markdown",
   "metadata": {},
   "source": [
    "## Datasets\n",
    "There are four datasets:\n",
    "1. income.csv: It is the dataset that an imaginary tax-related organization has about its clients.\n",
    "2. ip.csv: This is a simple example of an internet provider company (e.g. Shaw)\n",
    "3. hospital.csv: The dataset by an insurance company that provides insurance for travellers.\n",
    "4. creditcard.csv: A third party organization for credit checks. "
   ]
  },
  {
   "cell_type": "markdown",
   "metadata": {},
   "source": [
    "### Load the datasets\n",
    "Load each dataset as a separate dataframe and explore the data."
   ]
  },
  {
   "cell_type": "code",
   "execution_count": null,
   "metadata": {},
   "outputs": [],
   "source": []
  },
  {
   "cell_type": "markdown",
   "metadata": {},
   "source": [
    "### De-identification\n",
    "For each dataset, justify your answers for the columns as each being: \n",
    "1. explicit identifier\n",
    "2. quasi identifiers\n",
    "3. sensitive data\n",
    "4. other"
   ]
  },
  {
   "cell_type": "code",
   "execution_count": null,
   "metadata": {},
   "outputs": [],
   "source": []
  },
  {
   "cell_type": "markdown",
   "metadata": {},
   "source": [
    "#### anonymize data by removing explicit identifiers for each dataset"
   ]
  },
  {
   "cell_type": "code",
   "execution_count": null,
   "metadata": {},
   "outputs": [],
   "source": []
  },
  {
   "cell_type": "markdown",
   "metadata": {},
   "source": [
    "### Re-identification by linking\n",
    "Try to link the records from the datasets and re-identify the records. Notice that you might only get matching information about a record not specifically identify the individuals.\n"
   ]
  },
  {
   "cell_type": "code",
   "execution_count": null,
   "metadata": {},
   "outputs": [],
   "source": []
  },
  {
   "cell_type": "markdown",
   "metadata": {},
   "source": [
    "### Anonymize \n",
    "Anonymize the income and credit card datasets. Use Generalization or Supression methods on postal code. "
   ]
  },
  {
   "cell_type": "code",
   "execution_count": null,
   "metadata": {},
   "outputs": [],
   "source": []
  },
  {
   "cell_type": "markdown",
   "metadata": {},
   "source": [
    "#### Question: Is it k-anonymized? \n",
    "What is the maximum k that you can make each of the credit car or income datasets k-anonymized?\n"
   ]
  },
  {
   "cell_type": "code",
   "execution_count": null,
   "metadata": {},
   "outputs": [],
   "source": []
  },
  {
   "cell_type": "markdown",
   "metadata": {},
   "source": [
    "#### Question: Does it need l-diversity?"
   ]
  },
  {
   "cell_type": "code",
   "execution_count": null,
   "metadata": {},
   "outputs": [],
   "source": []
  },
  {
   "cell_type": "markdown",
   "metadata": {},
   "source": [
    "### Try relocating the credit cards\n",
    "Try finding out the location of the credit card holders by linking the dataset to the ip dataset. What do you find?"
   ]
  },
  {
   "cell_type": "code",
   "execution_count": null,
   "metadata": {},
   "outputs": [],
   "source": []
  },
  {
   "cell_type": "code",
   "execution_count": null,
   "metadata": {},
   "outputs": [],
   "source": []
  }
 ],
 "metadata": {
  "kernelspec": {
   "display_name": "Python 3",
   "language": "python",
   "name": "python3"
  },
  "language_info": {
   "codemirror_mode": {
    "name": "ipython",
    "version": 3
   },
   "file_extension": ".py",
   "mimetype": "text/x-python",
   "name": "python",
   "nbconvert_exporter": "python",
   "pygments_lexer": "ipython3",
   "version": "3.8.5"
  }
 },
 "nbformat": 4,
 "nbformat_minor": 2
}
